{
 "cells": [
  {
   "cell_type": "code",
   "execution_count": 2,
   "metadata": {},
   "outputs": [],
   "source": [
    "name=['John', 'Paul','George','Ringo']\n"
   ]
  },
  {
   "cell_type": "code",
   "execution_count": 3,
   "metadata": {},
   "outputs": [],
   "source": [
    "student=[\n",
    "    {'name':'John', 'age':25, 'grade':85},\n",
    "    {'name':'Paul', 'age':22, 'grade':95},\n",
    "    {'name':'George', 'age':23, 'grade':82},\n",
    "    {'name':'Ringo', 'age':21, 'grade':35},\n",
    "]"
   ]
  },
  {
   "cell_type": "code",
   "execution_count": 4,
   "metadata": {},
   "outputs": [
    {
     "data": {
      "text/plain": [
       "[{'name': 'John', 'age': 25, 'grade': 85},\n",
       " {'name': 'Paul', 'age': 22, 'grade': 95},\n",
       " {'name': 'George', 'age': 23, 'grade': 82},\n",
       " {'name': 'Ringo', 'age': 21, 'grade': 35}]"
      ]
     },
     "execution_count": 4,
     "metadata": {},
     "output_type": "execute_result"
    }
   ],
   "source": [
    "student"
   ]
  },
  {
   "cell_type": "code",
   "execution_count": 5,
   "metadata": {},
   "outputs": [
    {
     "data": {
      "text/plain": [
       "{'name': 'John', 'age': 25, 'grade': 85}"
      ]
     },
     "execution_count": 5,
     "metadata": {},
     "output_type": "execute_result"
    }
   ],
   "source": [
    "student[0]"
   ]
  },
  {
   "attachments": {},
   "cell_type": "markdown",
   "metadata": {},
   "source": [
    "- Object Oriented Principal\n",
    "    - Encapsulation\n",
    "    - Abstraction\n",
    "    - Inheritance"
   ]
  },
  {
   "cell_type": "code",
   "execution_count": 7,
   "metadata": {},
   "outputs": [],
   "source": [
    "class Student:\n",
    "    def __init__(self,name,age,grade):\n",
    "        self.name=name\n",
    "        self.age=age\n",
    "        self.grade=grade\n",
    "\n",
    "    def __repr__(self):\n",
    "        return self.name"
   ]
  },
  {
   "cell_type": "code",
   "execution_count": 8,
   "metadata": {},
   "outputs": [],
   "source": [
    "students=[\n",
    "    Student('John',25,88),\n",
    "    Student('Paul',23,94),\n",
    "    Student('Georgia',20,78),\n",
    "    Student('Regoria',26,90),\n",
    "]"
   ]
  },
  {
   "cell_type": "code",
   "execution_count": 9,
   "metadata": {},
   "outputs": [
    {
     "data": {
      "text/plain": [
       "John"
      ]
     },
     "execution_count": 9,
     "metadata": {},
     "output_type": "execute_result"
    }
   ],
   "source": [
    "students[0]"
   ]
  },
  {
   "cell_type": "code",
   "execution_count": 10,
   "metadata": {},
   "outputs": [
    {
     "data": {
      "text/plain": [
       "[John, Paul, Georgia, Regoria]"
      ]
     },
     "execution_count": 10,
     "metadata": {},
     "output_type": "execute_result"
    }
   ],
   "source": [
    "students"
   ]
  },
  {
   "cell_type": "code",
   "execution_count": 11,
   "metadata": {},
   "outputs": [],
   "source": [
    "class Mobile:\n",
    "    def __init__(self,nm,brand,price,ram,camera):\n",
    "        self.name=nm\n",
    "        self.brand=brand\n",
    "        self.price=price\n",
    "        self.ram=ram\n",
    "        self.camera=camera\n",
    "    \n",
    "    def __repr__(self):\n",
    "        return self.name\n",
    "    \n",
    "    def info(self):\n",
    "        print(f'Name:{self.name}')\n",
    "        print(f'Brand:{self.brand}')\n",
    "        print(f'Price:{self.price}')\n",
    "        print(f'RAM:{self.ram}')\n",
    "        print(f'Camera:{self.camera}')"
   ]
  },
  {
   "cell_type": "code",
   "execution_count": 12,
   "metadata": {},
   "outputs": [
    {
     "name": "stdout",
     "output_type": "stream",
     "text": [
      "[Redmi Note9 pro, iphone11, Galaxy11]\n"
     ]
    }
   ],
   "source": [
    "m1=Mobile('Redmi Note9 pro', 'Xiaomi', 15000,'6GB','8MP')\n",
    "m2=Mobile('iphone11','Apple',90000,'4GB','12MP')\n",
    "m3=Mobile(\"Galaxy11\",'Samsung',60000,'6GB','16MP')\n",
    "mobiles=[m1,m2,m3]\n",
    "print(mobiles)"
   ]
  },
  {
   "cell_type": "code",
   "execution_count": 13,
   "metadata": {},
   "outputs": [
    {
     "name": "stdout",
     "output_type": "stream",
     "text": [
      "Redmi Note9 pro\n",
      "iphone11\n",
      "Galaxy11\n"
     ]
    }
   ],
   "source": [
    "for item in mobiles:\n",
    "    print(item)"
   ]
  },
  {
   "cell_type": "code",
   "execution_count": 15,
   "metadata": {},
   "outputs": [
    {
     "name": "stdout",
     "output_type": "stream",
     "text": [
      "Redmi Note9 pro Xiaomi\n",
      "iphone11 Apple\n",
      "Galaxy11 Samsung\n"
     ]
    }
   ],
   "source": [
    "for item in mobiles:\n",
    "    print(item.name, item.brand)"
   ]
  },
  {
   "cell_type": "code",
   "execution_count": 16,
   "metadata": {},
   "outputs": [
    {
     "name": "stdout",
     "output_type": "stream",
     "text": [
      "Name:Redmi Note9 pro\n",
      "Brand:Xiaomi\n",
      "Price:15000\n",
      "RAM:6GB\n",
      "Camera:8MP\n",
      "Name:iphone11\n",
      "Brand:Apple\n",
      "Price:90000\n",
      "RAM:4GB\n",
      "Camera:12MP\n",
      "Name:Galaxy11\n",
      "Brand:Samsung\n",
      "Price:60000\n",
      "RAM:6GB\n",
      "Camera:16MP\n"
     ]
    }
   ],
   "source": [
    "for item in mobiles:\n",
    "    item.info()"
   ]
  },
  {
   "cell_type": "code",
   "execution_count": 1,
   "metadata": {},
   "outputs": [],
   "source": [
    "class person:\n",
    "    def __init__(self,name,gender=\"female\",age=21):\n",
    "        self.name=name\n",
    "        self.age=age\n",
    "        self.gender=gender\n",
    "    def __repr__(self):\n",
    "        return self.name\n"
   ]
  },
  {
   "cell_type": "code",
   "execution_count": 3,
   "metadata": {},
   "outputs": [
    {
     "data": {
      "text/plain": [
       "Arpita"
      ]
     },
     "execution_count": 3,
     "metadata": {},
     "output_type": "execute_result"
    }
   ],
   "source": [
    "p1=person('Arpita',age=21,gender='male')\n",
    "p1"
   ]
  },
  {
   "cell_type": "code",
   "execution_count": 4,
   "metadata": {},
   "outputs": [],
   "source": [
    "class politician(person):\n",
    "    def __init__(self, name, age, gender,pp, exp, area,designation ):\n",
    "        super().__init__(name, age,gender)\n",
    "        self.party=pp \n",
    "        self.experience=exp\n",
    "        self.area=area\n",
    "        self.designation=designation\n",
    "        "
   ]
  },
  {
   "cell_type": "code",
   "execution_count": 5,
   "metadata": {},
   "outputs": [
    {
     "data": {
      "text/plain": [
       "Mannat"
      ]
     },
     "execution_count": 5,
     "metadata": {},
     "output_type": "execute_result"
    }
   ],
   "source": [
    "p2=politician('Mannat',23,'female','BJP',2,'Bihar','MLA')\n",
    "p2"
   ]
  },
  {
   "cell_type": "code",
   "execution_count": 6,
   "metadata": {},
   "outputs": [],
   "source": [
    "from dataclasses import dataclass\n",
    "@dataclass\n",
    "class product:\n",
    "    name:str\n",
    "    price:float\n",
    "    quantity:int"
   ]
  },
  {
   "cell_type": "code",
   "execution_count": 8,
   "metadata": {},
   "outputs": [
    {
     "data": {
      "text/plain": [
       "[product(name='Laptop', price=1000, quantity=5),\n",
       " product(name='Mouse', price=50, quantity=10),\n",
       " product(name='Keyboard', price=100, quantity=8)]"
      ]
     },
     "execution_count": 8,
     "metadata": {},
     "output_type": "execute_result"
    }
   ],
   "source": [
    "products=[\n",
    "    product('Laptop',1000,5),\n",
    "    product('Mouse',50,10),\n",
    "    product('Keyboard',100,8)\n",
    "]\n",
    "products"
   ]
  },
  {
   "cell_type": "code",
   "execution_count": 9,
   "metadata": {},
   "outputs": [],
   "source": [
    "@dataclass\n",
    "class polygon:\n",
    "    sides:int\n",
    "    length:float\n",
    "    def perimeter(self):\n",
    "        return self.sides*self.length"
   ]
  },
  {
   "cell_type": "code",
   "execution_count": 10,
   "metadata": {},
   "outputs": [
    {
     "name": "stdout",
     "output_type": "stream",
     "text": [
      "32\n",
      "18\n"
     ]
    }
   ],
   "source": [
    "p=polygon(4,8)\n",
    "p2=polygon(3,6)\n",
    "print(p.perimeter())\n",
    "print(p2.perimeter())"
   ]
  },
  {
   "cell_type": "code",
   "execution_count": 12,
   "metadata": {},
   "outputs": [],
   "source": [
    "x=[1,2,3,4,5]\n",
    "y=[2,4,6,8,10]\n",
    "#x.sum()\n",
    "#x.mean()"
   ]
  },
  {
   "cell_type": "code",
   "execution_count": 13,
   "metadata": {},
   "outputs": [],
   "source": [
    "\n",
    "class Slist(list):\n",
    "    def sum(self):\n",
    "        return sum(self)\n",
    "    def mean(self):\n",
    "        return sum(self)/len(self)\n"
   ]
  },
  {
   "cell_type": "code",
   "execution_count": 14,
   "metadata": {},
   "outputs": [
    {
     "name": "stdout",
     "output_type": "stream",
     "text": [
      "15\n",
      "115\n",
      "19.166666666666668\n"
     ]
    }
   ],
   "source": [
    "x=Slist([1,2,3,4,5])\n",
    "y=Slist([2,4,6,8,10])\n",
    "print(x.sum())\n",
    "x.append(100)\n",
    "print(x.sum())\n",
    "print(x.mean())"
   ]
  },
  {
   "cell_type": "code",
   "execution_count": null,
   "metadata": {},
   "outputs": [],
   "source": []
  }
 ],
 "metadata": {
  "kernelspec": {
   "display_name": "base",
   "language": "python",
   "name": "python3"
  },
  "language_info": {
   "codemirror_mode": {
    "name": "ipython",
    "version": 3
   },
   "file_extension": ".py",
   "mimetype": "text/x-python",
   "name": "python",
   "nbconvert_exporter": "python",
   "pygments_lexer": "ipython3",
   "version": "3.10.8"
  },
  "orig_nbformat": 4
 },
 "nbformat": 4,
 "nbformat_minor": 2
}

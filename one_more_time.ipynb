{
 "cells": [
  {
   "cell_type": "code",
   "execution_count": 1,
   "metadata": {},
   "outputs": [],
   "source": [
    "from dputils.scrape import Scraper, Tag"
   ]
  },
  {
   "cell_type": "code",
   "execution_count": 2,
   "metadata": {},
   "outputs": [
    {
     "name": "stdout",
     "output_type": "stream",
     "text": [
      "https://www.amazon.in/s?k=watch&page=1\n"
     ]
    }
   ],
   "source": [
    "query='watch'\n",
    "page=1\n",
    "url=f'https://www.amazon.in/s?k={query}&page={page}'\n",
    "Scraper=Scraper(url)\n",
    "print(Scraper.url)\n",
    "target=Tag(cls='')\n",
    "items=Tag(cls='')\n",
    "title=Tag('h2')\n",
    "price=Tag('span',cls='')\n",
    "rating=Tag()\n",
    "oprice=Tag()\n",
    "brand=Tag()\n",
    "out= craper.get_all(target, items, title=title, price=price,rating=rating, oprice=oprice, brand=brand)\n",
    "return out\n"
   ]
  },
  {
   "cell_type": "code",
   "execution_count": 3,
   "metadata": {},
   "outputs": [
    {
     "ename": "SyntaxError",
     "evalue": "incomplete input (3328323520.py, line 9)",
     "output_type": "error",
     "traceback": [
      "\u001b[1;36m  Cell \u001b[1;32mIn[3], line 9\u001b[1;36m\u001b[0m\n\u001b[1;33m    \u001b[0m\n\u001b[1;37m    ^\u001b[0m\n\u001b[1;31mSyntaxError\u001b[0m\u001b[1;31m:\u001b[0m incomplete input\n"
     ]
    }
   ],
   "source": [
    "import pandas as pd\n",
    "query='watch'\n",
    "page=1\n",
    "all_data=[]\n",
    "while True:\n",
    "    data=get_data(query,page)\n",
    "    if len(data)==0:\n",
    "        break\n",
    "    else:\n",
    "        print(f'Page {page} done')\n",
    "        all_data.extend(data)\n",
    "        page+=\n",
    "for i in range(1,15):\n",
    "\n",
    "    "
   ]
  },
  {
   "cell_type": "code",
   "execution_count": null,
   "metadata": {},
   "outputs": [],
   "source": [
    "df"
   ]
  },
  {
   "cell_type": "code",
   "execution_count": null,
   "metadata": {},
   "outputs": [],
   "source": []
  },
  {
   "cell_type": "code",
   "execution_count": null,
   "metadata": {},
   "outputs": [],
   "source": []
  }
 ],
 "metadata": {
  "kernelspec": {
   "display_name": "base",
   "language": "python",
   "name": "python3"
  },
  "language_info": {
   "codemirror_mode": {
    "name": "ipython",
    "version": 3
   },
   "file_extension": ".py",
   "mimetype": "text/x-python",
   "name": "python",
   "nbconvert_exporter": "python",
   "pygments_lexer": "ipython3",
   "version": "3.10.8"
  },
  "orig_nbformat": 4
 },
 "nbformat": 4,
 "nbformat_minor": 2
}

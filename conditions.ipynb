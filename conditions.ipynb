{
 "cells": [
  {
   "attachments": {},
   "cell_type": "markdown",
   "metadata": {},
   "source": [
    "#conditions\n",
    "-if\n",
    "-if else\n",
    "-nested if\n",
    "-if elif else\n",
    "-match"
   ]
  },
  {
   "attachments": {},
   "cell_type": "markdown",
   "metadata": {},
   "source": [
    "Seperate "
   ]
  },
  {
   "cell_type": "code",
   "execution_count": 3,
   "metadata": {},
   "outputs": [
    {
     "name": "stdout",
     "output_type": "stream",
     "text": [
      "This will run\n",
      "This will also run\n",
      "Count is even\n",
      "natural no\n"
     ]
    }
   ],
   "source": [
    "count=int(input(\"enter a value\"))\n",
    "if count>5:\n",
    "    print(\"This will run\")\n",
    "if count>15:\n",
    "    print(\"This will also run\")\n",
    "if count%2==0:\n",
    "    print(\"Count is even\")\n",
    "if count>0:\n",
    "    print(\"natural no\")    "
   ]
  },
  {
   "attachments": {},
   "cell_type": "markdown",
   "metadata": {},
   "source": [
    "#Multiple condition in an if statement"
   ]
  },
  {
   "cell_type": "code",
   "execution_count": 4,
   "metadata": {},
   "outputs": [
    {
     "name": "stdout",
     "output_type": "stream",
     "text": [
      "13 is greater\n"
     ]
    }
   ],
   "source": [
    "a=10\n",
    "b=5\n",
    "c=13\n",
    "if a>b and a>c:\n",
    "    print(f\"{a} is greater\")\n",
    "if b>c and b>a:\n",
    "    print(f\"{b} is greater\")\n",
    "if c>a and c>b:\n",
    "    print(f\"{c} is greater\")\n"
   ]
  },
  {
   "cell_type": "code",
   "execution_count": 5,
   "metadata": {},
   "outputs": [
    {
     "name": "stdout",
     "output_type": "stream",
     "text": [
      "13 is greater\n"
     ]
    }
   ],
   "source": [
    "if a>b and a>c:\n",
    "    print(f\"{a} is greater\")\n",
    "elif b>c and b>a:\n",
    "    print(f\"{b} is greater\")\n",
    "else:\n",
    "    print(f\"{c} is greater\")"
   ]
  },
  {
   "cell_type": "code",
   "execution_count": 6,
   "metadata": {},
   "outputs": [
    {
     "name": "stdout",
     "output_type": "stream",
     "text": [
      "Mail nt valid\n"
     ]
    }
   ],
   "source": [
    "name=input(\"enter name\")\n",
    "email=input(\"enter mail\")\n",
    "pwd=input(\"input password\")\n",
    "pwd2=input(\"confirm password\")\n",
    "if len(name)>=4 and len(name)<=15:\n",
    "    if'@'in email and email.islower() and len(email)>20:\n",
    "        if len(pwd)>=6 and pwd!=name: \n",
    "            if pwd==pwd2:\n",
    "                print(\"Hurray\")\n",
    "            else:\n",
    "                print(\"password do not match\")\n",
    "        else:\n",
    "            print(\"password nt valid\")\n",
    "    else:\n",
    "        print(\"Mail nt valid\")\n",
    "else:\n",
    "    print(\"Name nt valid\")"
   ]
  },
  {
   "cell_type": "code",
   "execution_count": null,
   "metadata": {},
   "outputs": [],
   "source": []
  }
 ],
 "metadata": {
  "kernelspec": {
   "display_name": "base",
   "language": "python",
   "name": "python3"
  },
  "language_info": {
   "codemirror_mode": {
    "name": "ipython",
    "version": 3
   },
   "file_extension": ".py",
   "mimetype": "text/x-python",
   "name": "python",
   "nbconvert_exporter": "python",
   "pygments_lexer": "ipython3",
   "version": "3.10.8"
  },
  "orig_nbformat": 4,
  "vscode": {
   "interpreter": {
    "hash": "5b6002d1e928962cd19dde4287e8a81266a3dfa22c12012df96bb19a6e27b9c0"
   }
  }
 },
 "nbformat": 4,
 "nbformat_minor": 2
}

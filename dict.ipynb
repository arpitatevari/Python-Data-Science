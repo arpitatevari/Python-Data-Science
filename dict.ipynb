{
 "cells": [
  {
   "cell_type": "code",
   "execution_count": 1,
   "metadata": {},
   "outputs": [],
   "source": [
    "show={\n",
    "    'title':'kaleidoscope',\n",
    "    'release date':'1 Jan-2023',\n",
    "    'season':'1',\n",
    "    'cast':'Giancarlo, Rosaline,Tati, Paz, Niousha',\n",
    "    'ott':'Netflix',\n",
    "    'rating':'8.9'\n",
    "}"
   ]
  },
  {
   "cell_type": "code",
   "execution_count": 2,
   "metadata": {},
   "outputs": [
    {
     "name": "stdout",
     "output_type": "stream",
     "text": [
      "title\n",
      "release date\n",
      "season\n",
      "cast\n",
      "ott\n",
      "rating\n"
     ]
    }
   ],
   "source": [
    "for key in show:\n",
    "    print(key)"
   ]
  },
  {
   "cell_type": "code",
   "execution_count": 3,
   "metadata": {},
   "outputs": [
    {
     "name": "stdout",
     "output_type": "stream",
     "text": [
      "title kaleidoscope\n",
      "release date 1 Jan-2023\n",
      "season 1\n",
      "cast Giancarlo, Rosaline,Tati, Paz, Niousha\n",
      "ott Netflix\n",
      "rating 8.9\n"
     ]
    }
   ],
   "source": [
    "for key in show:\n",
    "    print(key,show[key])"
   ]
  },
  {
   "cell_type": "code",
   "execution_count": 4,
   "metadata": {},
   "outputs": [
    {
     "name": "stdout",
     "output_type": "stream",
     "text": [
      "title kaleidoscope\n",
      "release date 1 Jan-2023\n",
      "season 1\n",
      "cast Giancarlo, Rosaline,Tati, Paz, Niousha\n",
      "ott Netflix\n",
      "rating 8.9\n"
     ]
    }
   ],
   "source": [
    "for k,v in show.items():\n",
    "    print(k,v)"
   ]
  },
  {
   "cell_type": "code",
   "execution_count": 5,
   "metadata": {},
   "outputs": [
    {
     "name": "stdout",
     "output_type": "stream",
     "text": [
      "kaleidoscope\n",
      "1 Jan-2023\n",
      "1\n",
      "Giancarlo, Rosaline,Tati, Paz, Niousha\n",
      "Netflix\n",
      "8.9\n"
     ]
    }
   ],
   "source": [
    "for v in show.values():\n",
    "    print(v)"
   ]
  },
  {
   "cell_type": "code",
   "execution_count": 6,
   "metadata": {},
   "outputs": [
    {
     "name": "stdout",
     "output_type": "stream",
     "text": [
      "dict_values(['kaleidoscope', '1 Jan-2023', '1', 'Giancarlo, Rosaline,Tati, Paz, Niousha', 'Netflix', '8.9'])\n",
      "dict_keys(['title', 'release date', 'season', 'cast', 'ott', 'rating'])\n",
      "dict_items([('title', 'kaleidoscope'), ('release date', '1 Jan-2023'), ('season', '1'), ('cast', 'Giancarlo, Rosaline,Tati, Paz, Niousha'), ('ott', 'Netflix'), ('rating', '8.9')])\n"
     ]
    }
   ],
   "source": [
    "print(show.values())\n",
    "print(show.keys())\n",
    "print(show.items())\n"
   ]
  },
  {
   "cell_type": "code",
   "execution_count": 7,
   "metadata": {},
   "outputs": [
    {
     "data": {
      "text/plain": [
       "'Netflix'"
      ]
     },
     "execution_count": 7,
     "metadata": {},
     "output_type": "execute_result"
    }
   ],
   "source": [
    "show.pop('ott')"
   ]
  },
  {
   "cell_type": "code",
   "execution_count": null,
   "metadata": {},
   "outputs": [],
   "source": []
  }
 ],
 "metadata": {
  "kernelspec": {
   "display_name": "base",
   "language": "python",
   "name": "python3"
  },
  "language_info": {
   "codemirror_mode": {
    "name": "ipython",
    "version": 3
   },
   "file_extension": ".py",
   "mimetype": "text/x-python",
   "name": "python",
   "nbconvert_exporter": "python",
   "pygments_lexer": "ipython3",
   "version": "3.10.8"
  },
  "orig_nbformat": 4,
  "vscode": {
   "interpreter": {
    "hash": "5b6002d1e928962cd19dde4287e8a81266a3dfa22c12012df96bb19a6e27b9c0"
   }
  }
 },
 "nbformat": 4,
 "nbformat_minor": 2
}
